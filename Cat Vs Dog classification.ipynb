{
 "cells": [
  {
   "cell_type": "code",
   "execution_count": 1,
   "id": "f1ca1595",
   "metadata": {},
   "outputs": [],
   "source": [
    "# Imorting required libraries\n",
    "import tensorflow as tf\n",
    "from tensorflow import keras\n",
    "from keras import Sequential\n",
    "from keras.layers import Dense, Conv2D, MaxPooling2D, BatchNormalization, Dropout"
   ]
  },
  {
   "cell_type": "code",
   "execution_count": 5,
   "id": "1cf66337",
   "metadata": {},
   "outputs": [
    {
     "name": "stdout",
     "output_type": "stream",
     "text": [
      "Found 20000 files belonging to 2 classes.\n",
      "Found 5000 files belonging to 2 classes.\n"
     ]
    }
   ],
   "source": [
    "# Fetching training data\n",
    "train_data = keras.utils.image_dataset_from_directory(directory='E:/ML/archive/train',\n",
    "                                                      labels='inferred',\n",
    "                                                      label_mode='int',\n",
    "                                                      batch_size=32,\n",
    "                                                      image_size=(256, 256))\n",
    "\n",
    "# Fetching validation data\n",
    "test_data = keras.utils.image_dataset_from_directory(directory='E:/ML/archive/test',\n",
    "                                                      labels='inferred',\n",
    "                                                      label_mode='int',\n",
    "                                                      batch_size=32,\n",
    "                                                      image_size=(256, 256))"
   ]
  },
  {
   "cell_type": "code",
   "execution_count": 6,
   "id": "adc03d43",
   "metadata": {},
   "outputs": [],
   "source": [
    "# Normalizing or images b/w 0 and 1\n",
    "def normalize(image, label):\n",
    "    image = tf.cast(image/255.0, tf.float32)\n",
    "    return image, label\n",
    "\n",
    "train_data = train_data.map(normalize)\n",
    "test_data = test_data.map(normalize)"
   ]
  },
  {
   "cell_type": "code",
   "execution_count": 7,
   "id": "d7f0e4bf",
   "metadata": {},
   "outputs": [],
   "source": [
    "from keras.layers.reshaping.flatten import Flatten\n",
    "# Creating our layers\n",
    "\n",
    "model = Sequential()\n",
    "# 1st Convo layer\n",
    "model.add(Conv2D(32, kernel_size=(3,3), padding=\"valid\", activation=\"relu\", input_shape=(256,256,3)))\n",
    "model.add(BatchNormalization())\n",
    "model.add(MaxPooling2D(pool_size=(2, 2), strides= 2, padding= \"valid\"))\n",
    "# 2nd Convo layer\n",
    "model.add(Conv2D(64, kernel_size=(3,3), padding=\"valid\", activation=\"relu\"))\n",
    "model.add(BatchNormalization())\n",
    "model.add(MaxPooling2D(pool_size=(2, 2), strides= 2, padding= \"valid\"))\n",
    "# 3rd Convo layer\n",
    "model.add(Conv2D(128, kernel_size=(3,3), padding=\"valid\", activation=\"relu\"))\n",
    "model.add(BatchNormalization())\n",
    "model.add(MaxPooling2D(pool_size=(2, 2), strides= 2, padding= \"valid\"))\n",
    "\n",
    "model.add(Flatten())\n",
    "\n",
    "model.add(Dense(128, activation=\"relu\"))\n",
    "model.add(Dropout(0.1))\n",
    "model.add(Dense(64, activation=\"relu\"))\n",
    "model.add(Dropout(0.1))\n",
    "model.add(Dense(1, activation=\"sigmoid\"))"
   ]
  },
  {
   "cell_type": "code",
   "execution_count": 8,
   "id": "58209882",
   "metadata": {},
   "outputs": [
    {
     "name": "stdout",
     "output_type": "stream",
     "text": [
      "Model: \"sequential\"\n",
      "_________________________________________________________________\n",
      " Layer (type)                Output Shape              Param #   \n",
      "=================================================================\n",
      " conv2d (Conv2D)             (None, 254, 254, 32)      896       \n",
      "                                                                 \n",
      " batch_normalization (BatchN  (None, 254, 254, 32)     128       \n",
      " ormalization)                                                   \n",
      "                                                                 \n",
      " max_pooling2d (MaxPooling2D  (None, 127, 127, 32)     0         \n",
      " )                                                               \n",
      "                                                                 \n",
      " conv2d_1 (Conv2D)           (None, 125, 125, 64)      18496     \n",
      "                                                                 \n",
      " batch_normalization_1 (Batc  (None, 125, 125, 64)     256       \n",
      " hNormalization)                                                 \n",
      "                                                                 \n",
      " max_pooling2d_1 (MaxPooling  (None, 62, 62, 64)       0         \n",
      " 2D)                                                             \n",
      "                                                                 \n",
      " conv2d_2 (Conv2D)           (None, 60, 60, 128)       73856     \n",
      "                                                                 \n",
      " batch_normalization_2 (Batc  (None, 60, 60, 128)      512       \n",
      " hNormalization)                                                 \n",
      "                                                                 \n",
      " max_pooling2d_2 (MaxPooling  (None, 30, 30, 128)      0         \n",
      " 2D)                                                             \n",
      "                                                                 \n",
      " flatten (Flatten)           (None, 115200)            0         \n",
      "                                                                 \n",
      " dense (Dense)               (None, 128)               14745728  \n",
      "                                                                 \n",
      " dropout (Dropout)           (None, 128)               0         \n",
      "                                                                 \n",
      " dense_1 (Dense)             (None, 64)                8256      \n",
      "                                                                 \n",
      " dropout_1 (Dropout)         (None, 64)                0         \n",
      "                                                                 \n",
      " dense_2 (Dense)             (None, 1)                 65        \n",
      "                                                                 \n",
      "=================================================================\n",
      "Total params: 14,848,193\n",
      "Trainable params: 14,847,745\n",
      "Non-trainable params: 448\n",
      "_________________________________________________________________\n"
     ]
    }
   ],
   "source": [
    "model.summary()"
   ]
  },
  {
   "cell_type": "code",
   "execution_count": 9,
   "id": "2c6c3367",
   "metadata": {},
   "outputs": [],
   "source": [
    "model.compile(optimizer=\"adam\", loss=\"binary_crossentropy\", metrics=[\"accuracy\"])"
   ]
  },
  {
   "cell_type": "code",
   "execution_count": 10,
   "id": "6afd4c16",
   "metadata": {},
   "outputs": [
    {
     "name": "stdout",
     "output_type": "stream",
     "text": [
      "Epoch 1/10\n",
      "625/625 [==============================] - 1990s 3s/step - loss: 1.1807 - accuracy: 0.6071 - val_loss: 0.6194 - val_accuracy: 0.6722\n",
      "Epoch 2/10\n",
      "625/625 [==============================] - 2042s 3s/step - loss: 0.5617 - accuracy: 0.7115 - val_loss: 0.6049 - val_accuracy: 0.6422\n",
      "Epoch 3/10\n",
      "625/625 [==============================] - 1899s 3s/step - loss: 0.4817 - accuracy: 0.7704 - val_loss: 0.4620 - val_accuracy: 0.7802\n",
      "Epoch 4/10\n",
      "625/625 [==============================] - 1876s 3s/step - loss: 0.4044 - accuracy: 0.8200 - val_loss: 0.5431 - val_accuracy: 0.7674\n",
      "Epoch 5/10\n",
      "625/625 [==============================] - 1705s 3s/step - loss: 0.3651 - accuracy: 0.8418 - val_loss: 0.4702 - val_accuracy: 0.7892\n",
      "Epoch 6/10\n",
      "625/625 [==============================] - 1734s 3s/step - loss: 0.2933 - accuracy: 0.8775 - val_loss: 0.4765 - val_accuracy: 0.7940\n",
      "Epoch 7/10\n",
      "625/625 [==============================] - 1769s 3s/step - loss: 0.2076 - accuracy: 0.9156 - val_loss: 0.4847 - val_accuracy: 0.7966\n",
      "Epoch 8/10\n",
      "625/625 [==============================] - 1735s 3s/step - loss: 0.1429 - accuracy: 0.9452 - val_loss: 0.5530 - val_accuracy: 0.8062\n",
      "Epoch 9/10\n",
      "625/625 [==============================] - 1755s 3s/step - loss: 0.1018 - accuracy: 0.9628 - val_loss: 0.7004 - val_accuracy: 0.8160\n",
      "Epoch 10/10\n",
      "625/625 [==============================] - 1861s 3s/step - loss: 0.0768 - accuracy: 0.9724 - val_loss: 0.7252 - val_accuracy: 0.7576\n"
     ]
    }
   ],
   "source": [
    "history = model.fit(train_data, epochs= 10, validation_data= test_data)"
   ]
  },
  {
   "cell_type": "code",
   "execution_count": null,
   "id": "29db37cc",
   "metadata": {},
   "outputs": [],
   "source": [
    "import matplotlib.pyplot as plt\n",
    "\n",
    "plt.plot(history.history['accuracy'],color= \"red\", label= \"train\")\n",
    "plt.plot(history.history['val_accuracy'],color= \"blue\", label= \"test\")\n",
    "plt.legend()\n",
    "plt.show()"
   ]
  },
  {
   "cell_type": "code",
   "execution_count": null,
   "id": "1eadfea6",
   "metadata": {},
   "outputs": [],
   "source": [
    "plt.plot(history.history['loss'],color= \"red\", label= \"train\")\n",
    "plt.plot(history.history['val_loss'],color= \"blue\", label= \"test\")\n",
    "plt.legend()\n",
    "plt.show()"
   ]
  }
 ],
 "metadata": {
  "kernelspec": {
   "display_name": "Python 3 (ipykernel)",
   "language": "python",
   "name": "python3"
  },
  "language_info": {
   "codemirror_mode": {
    "name": "ipython",
    "version": 3
   },
   "file_extension": ".py",
   "mimetype": "text/x-python",
   "name": "python",
   "nbconvert_exporter": "python",
   "pygments_lexer": "ipython3",
   "version": "3.9.12"
  }
 },
 "nbformat": 4,
 "nbformat_minor": 5
}
